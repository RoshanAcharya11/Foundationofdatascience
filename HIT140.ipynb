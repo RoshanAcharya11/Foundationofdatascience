{
  "nbformat": 4,
  "nbformat_minor": 0,
  "metadata": {
    "colab": {
      "provenance": [],
      "toc_visible": true,
      "authorship_tag": "ABX9TyP/MgWbk5YDs1ChQ1knh5Lx",
      "include_colab_link": true
    },
    "kernelspec": {
      "name": "python3",
      "display_name": "Python 3"
    },
    "language_info": {
      "name": "python"
    }
  },
  "cells": [
    {
      "cell_type": "markdown",
      "metadata": {
        "id": "view-in-github",
        "colab_type": "text"
      },
      "source": [
        "<a href=\"https://colab.research.google.com/github/RoshanAcharya11/Foundationofdatascience/blob/main/HIT140.ipynb\" target=\"_parent\"><img src=\"https://colab.research.google.com/assets/colab-badge.svg\" alt=\"Open In Colab\"/></a>"
      ]
    },
    {
      "cell_type": "code",
      "execution_count": null,
      "metadata": {
        "id": "8ef4D-QpO249"
      },
      "outputs": [],
      "source": []
    },
    {
      "cell_type": "code",
      "source": [
        "import pandas as pd  # For data tables\n",
        "dataset1 = pd.read_csv(\"dataset1 (1).csv\")  # Replace with your file name\n",
        "dataset2 = pd.read_csv(\"dataset2 (1).csv\")\n",
        "print(dataset1.head())  # View first 5 rows\n",
        "print(dataset2.head())\n",
        "\n",
        "# Remove outliers in hesitation time\n",
        "dataset1 = dataset1[dataset1[\"bat_landing_to_food\"] < dataset1[\"bat_landing_to_food\"].quantile(0.99)]\n",
        "\n",
        "# Create rat_present (1 if rats nearby)\n",
        "dataset1[\"rat_present\"] = dataset1[\"seconds_after_rat_arrival\"].apply(lambda x: 1 if 0 <= x <= 300 else 0)"
      ],
      "metadata": {
        "colab": {
          "base_uri": "https://localhost:8080/"
        },
        "id": "F-ZGTmnvPObm",
        "outputId": "76b5b77a-b201-4606-a9b5-ad143c183b26"
      },
      "execution_count": 5,
      "outputs": [
        {
          "output_type": "stream",
          "name": "stdout",
          "text": [
            "         start_time  bat_landing_to_food habit  rat_period_start  \\\n",
            "0  30/12/2017 18:37            16.000000   rat  30/12/2017 18:35   \n",
            "1  30/12/2017 19:51             0.074016  fast  30/12/2017 19:50   \n",
            "2  30/12/2017 19:51             4.000000  fast  30/12/2017 19:50   \n",
            "3  30/12/2017 19:52            10.000000   rat  30/12/2017 19:50   \n",
            "4  30/12/2017 19:54            15.000000   rat  30/12/2017 19:50   \n",
            "\n",
            "     rat_period_end  seconds_after_rat_arrival  risk  reward  month  \\\n",
            "0  30/12/2017 18:38                        108     1       0      0   \n",
            "1  30/12/2017 19:55                         17     0       1      0   \n",
            "2  30/12/2017 19:55                         41     0       1      0   \n",
            "3  30/12/2017 19:55                        111     1       0      0   \n",
            "4  30/12/2017 19:55                        194     1       0      0   \n",
            "\n",
            "        sunset_time  hours_after_sunset  season  \n",
            "0  30/12/2017 16:45            1.870833       0  \n",
            "1  30/12/2017 16:45            3.100833       0  \n",
            "2  30/12/2017 16:45            3.107500       0  \n",
            "3  30/12/2017 16:45            3.126944       0  \n",
            "4  30/12/2017 16:45            3.150000       0  \n",
            "               time  month  hours_after_sunset  bat_landing_number  \\\n",
            "0  26/12/2017 16:13      0                -0.5                  20   \n",
            "1  26/12/2017 16:43      0                 0.0                  28   \n",
            "2  26/12/2017 17:13      0                 0.5                  25   \n",
            "3  26/12/2017 17:43      0                 1.0                  71   \n",
            "4  26/12/2017 18:13      0                 1.5                  44   \n",
            "\n",
            "   food_availability  rat_minutes  rat_arrival_number  \n",
            "0           4.000000          0.0                   0  \n",
            "1           4.000000          0.0                   0  \n",
            "2           4.000000          0.0                   0  \n",
            "3           4.000000          0.0                   0  \n",
            "4           3.753857          0.0                   0  \n"
          ]
        }
      ]
    }
  ]
}